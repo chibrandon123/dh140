{
 "cells": [
  {
   "cell_type": "code",
   "execution_count": 9,
   "id": "5373b06e-4e6e-4144-91bd-10ae0dd91df6",
   "metadata": {},
   "outputs": [],
   "source": [
    "import requests\n",
    "import nltk"
   ]
  },
  {
   "cell_type": "code",
   "execution_count": 12,
   "id": "1058ce38-ec68-4f5e-8543-0580d844e6ad",
   "metadata": {},
   "outputs": [],
   "source": [
    "juliusURLString = \"https://www.gutenberg.org/cache/epub/1522/pg1522.txt\"\n",
    "r = requests.get(juliusURLString,allow_redirects=True)\n",
    "jText = r.text"
   ]
  },
  {
   "cell_type": "code",
   "execution_count": 13,
   "id": "0daab4db-6311-426f-aafc-8ae445f91def",
   "metadata": {},
   "outputs": [],
   "source": [
    "from nltk.tokenize import word_tokenize,sent_tokenize"
   ]
  },
  {
   "cell_type": "code",
   "execution_count": 17,
   "id": "69b80cae-bb8e-483a-97e8-8f580cb3bed2",
   "metadata": {},
   "outputs": [],
   "source": [
    "sent = sent_tokenize(jText)\n",
    "words = []\n",
    "for s in sent:\n",
    "    for w in word_tokenize(s):\n",
    "        words.append(w)"
   ]
  },
  {
   "cell_type": "code",
   "execution_count": 52,
   "id": "d7be430e-889c-42a1-ad25-dec69d2f7ec2",
   "metadata": {},
   "outputs": [
    {
     "name": "stderr",
     "output_type": "stream",
     "text": [
      "[nltk_data] Downloading package stopwords to /home/jovyan/nltk_data...\n",
      "[nltk_data]   Package stopwords is already up-to-date!\n"
     ]
    }
   ],
   "source": [
    "from nltk.corpus import stopwords\n",
    "from string import punctuation\n",
    "nltk.download('stopwords')\n",
    "myStopWords = list(punctuation+ '’') + stopwords.words('english')"
   ]
  },
  {
   "cell_type": "code",
   "execution_count": 53,
   "id": "f4ac7ae7-42c2-4080-a7fe-98760e473c0d",
   "metadata": {},
   "outputs": [],
   "source": [
    "wordsNotInStop = []\n",
    "for word in words:\n",
    "    if word not in myStopWords:\n",
    "        wordsNotInStop.append(word)"
   ]
  },
  {
   "cell_type": "code",
   "execution_count": 57,
   "id": "c9d9baa6-0048-4454-8638-9f728d0568b8",
   "metadata": {},
   "outputs": [
    {
     "name": "stdout",
     "output_type": "stream",
     "text": [
      "['I', 'Caesar', 'And', 'BRUTUS', 'Brutus', 'CASSIUS', 'shall', 'The', 'thou', 'That', 'Cassius', 'Project', 'To', 'Antony', 'But', 'What', 'O', 'If', 'know', 'CITIZEN']\n"
     ]
    }
   ],
   "source": [
    "def getTop20Words():\n",
    "    top20Words = []\n",
    "    wordToFreq = {}\n",
    "    for word in wordsNotInStop:\n",
    "        wordToFreq[word]=1 if word not in wordToFreq else wordToFreq[word]+1\n",
    "    for k,v in sorted(wordToFreq.items(), key = lambda x: x[1],reverse=True):\n",
    "        top20Words.append(k)\n",
    "        if len(top20Words) == 20:\n",
    "            break\n",
    "    return top20Words\n",
    "top20 = getTop20Words()\n",
    "print(top20)\n",
    "#It does give a general sense of who the main characters in the play are: Caesar, Brutus, Cassius, Antony.\n",
    "#However, I can't really derive the plot of the play simply from these most frequent words. I think more analysis must be done\n",
    "#on perhaps collocates and surrounding words to get a general sense of how these characters are thinking and interacting with each\n",
    "#other. "
   ]
  },
  {
   "cell_type": "code",
   "execution_count": 64,
   "id": "0cb32c5b-dac1-40d3-ae94-2e6a5d602035",
   "metadata": {},
   "outputs": [],
   "source": [
    "r1 = \"Horrible I place order two hours in advance. Was 25 minutes late. Food was less than okay and VERY EXPENSIVE.\"\n",
    "r2 = \"The workers at this location are not professional. My order took a long time for it to be made and was cold when I received it.\"\n",
    "r3 = \"Terrible customer service. I placed an order online, called twice to confirm it because I wasn't able to track it and both times the phone was answered and hung up. The third time a woman answered very aggressively as if she was annoyed and bothered by the idea that a customer could be calling.\"\n",
    "r4 = \"So Domino's just called me back and said my order wouldn't get here until damn Midnight. And when I tried to question the lady she said Whatever, Bye.\"\n",
    "r5 = \"My first time at this location and it was great! I got a large 3 topping pizza (pepperoni,ham, & jalapeños). Can honestly say one of the better dominos pizza I've ever had. It was fresh, cheesy, and topped with a fair amount of toppings. The staff was kind and very attentive I recommend this dominos to anyone strolling by in the downtown area.\"\n",
    "r6 = \"Great service. One of my easiest orders at dominos ever. Wash order, easy pick up and ready pay. If I will be downtown area ever again. I will go to this location only. Thank you for a good service people\"\n",
    "r7 = \"I have done business with this location for over 7 years. They use to be good. But now I get half done pizza or garlic bread twist and tonight two hours late.\"\n",
    "r8 = \"They did not call or knock that they had deliver my pizza and a dog ate  the boxes of pizza. Ordering Pizza Hut from now on \"\n",
    "r9 = \"Worst pizza I have ever eaten in my life!!  How can you mess up a plain cheese pizza??\"\n",
    "r10 = \"So I ordered a salad and a pizza from dominos last night while I was at work. The pizza was cold and poorly made and my salad had a hair in it. I was just told that my salad could not be replaced bc it comes sealed and there is no way that there would be a hair in the salad. We can't just give away free salads, she said  I don't have enough time or the desire to waste so I'll just put it here and move on.  Step it up dominoes.  Will not order from dominos in Lancaster on Ave K location again. Bad customer service.\"\n",
    "r11 = \"This Domino's is the worst I have dealt with on the entire west coast!!! Not only did they deliver our $40.00 pizza order to someone else, they say it's our fault!!! After calling them back and speaking with several employees they dismissed our problem saying they delivered it!!!! After 2 calls they refunded my $ saying it will take a week!!! So WE DON'T EAT FOR A WEEK!!!!!\"\n",
    "r12 = \"I have never been so disgusted with a company to actually write a review. I placed order online and used the online tracker after 20 minutes of placing my order. Tracker status was delivered, so I called the store and was told that the tracker was wrong and order was still out for delivery. 50 minutes later, I called the store back and was told that the order was delivered directly to me! The delivery guy got on the phone and when I asked him to describe what I looked like, all he could say was that I am a woman. I asked for a manager and was placed on hold 5 minutes.\"\n",
    "r13 = \"He delivered to the wrong place, and I am being treated like it is my fault! He said that I confirmed my physical appearance when he described me as only being a woman. He said that he was 100% sure that he gave me my order--I asked for contactless delivery!!I have asked him to come back and knock on my door, because the woman he said that he delivered to has short hair--my hair hangs down to my waist!! He said that he is on his way...I am still waiting.\"\n",
    "r14 = \"Will never go to another Dominos as long as I live. Will also be calling the food department on this location.\"\n",
    "r15 = \"After she helped me out she just hung up the phone, very very poor management skills. Looks bad on this store, and the name behind it.\"\n",
    "reviews = [r1,r2,r3,r4,r5,r6,r7,r8,r9,r10,r11,r12,r13,r14,r15]\n",
    "reviewScores = [1,1,1,1,5,5,2,1,1,1,1,1,1,1,1]"
   ]
  },
  {
   "cell_type": "code",
   "execution_count": 65,
   "id": "6db383ab-e6fe-45f9-b038-49b3262a817d",
   "metadata": {},
   "outputs": [
    {
     "name": "stderr",
     "output_type": "stream",
     "text": [
      "[nltk_data] Downloading package vader_lexicon to\n",
      "[nltk_data]     /home/jovyan/nltk_data...\n",
      "[nltk_data]   Package vader_lexicon is already up-to-date!\n"
     ]
    },
    {
     "data": {
      "text/plain": [
       "True"
      ]
     },
     "execution_count": 65,
     "metadata": {},
     "output_type": "execute_result"
    }
   ],
   "source": [
    "from nltk.sentiment import vader\n",
    "nltk.download('vader_lexicon')"
   ]
  },
  {
   "cell_type": "code",
   "execution_count": 68,
   "id": "2e19b920-16a3-4a34-9015-f22ca166d0cc",
   "metadata": {},
   "outputs": [],
   "source": [
    "sia = vader.SentimentIntensityAnalyzer()"
   ]
  },
  {
   "cell_type": "code",
   "execution_count": 72,
   "id": "64b1f41d-e95a-4ecf-ba36-253e5e1bac0c",
   "metadata": {},
   "outputs": [
    {
     "name": "stdout",
     "output_type": "stream",
     "text": [
      "This is the polarity scores:\n",
      "{'neg': 0.158, 'neu': 0.768, 'pos': 0.073, 'compound': -0.4364}\n",
      "Star Rating for this Review: 1\n",
      "=======================\n",
      "This is the polarity scores:\n",
      "{'neg': 0.0, 'neu': 1.0, 'pos': 0.0, 'compound': 0.0}\n",
      "Star Rating for this Review: 1\n",
      "=======================\n",
      "This is the polarity scores:\n",
      "{'neg': 0.187, 'neu': 0.813, 'pos': 0.0, 'compound': -0.8622}\n",
      "Star Rating for this Review: 1\n",
      "=======================\n",
      "This is the polarity scores:\n",
      "{'neg': 0.094, 'neu': 0.906, 'pos': 0.0, 'compound': -0.4019}\n",
      "Star Rating for this Review: 1\n",
      "=======================\n",
      "This is the polarity scores:\n",
      "{'neg': 0.0, 'neu': 0.704, 'pos': 0.296, 'compound': 0.9641}\n",
      "Star Rating for this Review: 5\n",
      "=======================\n",
      "This is the polarity scores:\n",
      "{'neg': 0.029, 'neu': 0.611, 'pos': 0.36, 'compound': 0.946}\n",
      "Star Rating for this Review: 5\n",
      "=======================\n",
      "This is the polarity scores:\n",
      "{'neg': 0.0, 'neu': 0.935, 'pos': 0.065, 'compound': 0.2382}\n",
      "Star Rating for this Review: 2\n",
      "=======================\n",
      "This is the polarity scores:\n",
      "{'neg': 0.0, 'neu': 1.0, 'pos': 0.0, 'compound': 0.0}\n",
      "Star Rating for this Review: 1\n",
      "=======================\n",
      "This is the polarity scores:\n",
      "{'neg': 0.35, 'neu': 0.65, 'pos': 0.0, 'compound': -0.8198}\n",
      "Star Rating for this Review: 1\n",
      "=======================\n",
      "This is the polarity scores:\n",
      "{'neg': 0.078, 'neu': 0.866, 'pos': 0.055, 'compound': -0.3612}\n",
      "Star Rating for this Review: 1\n",
      "=======================\n",
      "This is the polarity scores:\n",
      "{'neg': 0.151, 'neu': 0.849, 'pos': 0.0, 'compound': -0.8926}\n",
      "Star Rating for this Review: 1\n",
      "=======================\n",
      "This is the polarity scores:\n",
      "{'neg': 0.072, 'neu': 0.904, 'pos': 0.023, 'compound': -0.7398}\n",
      "Star Rating for this Review: 1\n",
      "=======================\n",
      "This is the polarity scores:\n",
      "{'neg': 0.074, 'neu': 0.876, 'pos': 0.051, 'compound': -0.4885}\n",
      "Star Rating for this Review: 1\n",
      "=======================\n",
      "This is the polarity scores:\n",
      "{'neg': 0.0, 'neu': 1.0, 'pos': 0.0, 'compound': 0.0}\n",
      "Star Rating for this Review: 1\n",
      "=======================\n",
      "This is the polarity scores:\n",
      "{'neg': 0.23, 'neu': 0.77, 'pos': 0.0, 'compound': -0.8004}\n",
      "Star Rating for this Review: 1\n",
      "=======================\n"
     ]
    }
   ],
   "source": [
    "for i in range(len(reviews)):\n",
    "    print(\"This is the polarity scores:\")\n",
    "    print(sia.polarity_scores(reviews[i]))\n",
    "    print(\"Star Rating for this Review: \" + str(reviewScores[i]))\n",
    "    print('=======================')"
   ]
  },
  {
   "cell_type": "code",
   "execution_count": 78,
   "id": "98b8b06c-fc87-45d4-bbc1-921cc1e48540",
   "metadata": {},
   "outputs": [
    {
     "name": "stdout",
     "output_type": "stream",
     "text": [
      "10\n"
     ]
    }
   ],
   "source": [
    "movieReviews=[\n",
    "    \"Adam Sandler gets a bad rap, especially in comedy circles. I am a huge fan, but even I won't deny that he's made some really terrible movies, that he probably knew were terrible, but is wanting to get paid such a crime? The truth is, while he has had a number of stinkers in the last few years, he's also had some really great films, which in my opinion are on the level with Billy Madison and Happy Gilmore, Grown Ups is one such film.\",\n",
    "    \"At first glance and after watching the first 15 minutes, one may think this is just another cute girls doing cute things type of movie, but contrary to popular belief this movie is anything but that. This movie is a great movie for anyone in the family, I watched this movie with my 4 kids and everyone enjoyed it thoroughly. One scene that I found especially hilarious was the buff guy from Saskatchatoon, it was a funny and well timed joke, but it felt awfully derivative of a similar joke made in the Love Live! Party discord server.\",\n",
    "    \"The reason this wasn't nominated for the Oscars is because this film is too powerful, too captivating, and too prolific that it simply wouldn't be fair to have this movie contend with any others, it would simply win Best Picture. The jokes in this film are absolutely hilarious and hold a mirror to society on how each of our truest natures usually can be. Although on the outside we may be everyday average Joes/Jos working at a 9-5 pace, deep down we are animals born to be free.\",\n",
    "    \"I think it was a great movie.. Fun to watch with family… Also some of my favorite actors working together. A lot of people give Adam Sandler a lot of hate on his movies and say they aren’t that good but I love most of his work, call me crazy if you want but I even had his music CD with the song red hooded sweatshirt playing over and over… I definitely can’t complain.\",\n",
    "    \"Okay unpopular opinion has arrived. Adam Sandler can be incredibly funny, a lot of his movies are incredibly funny, this movie is unfortunately only sometimes funny. The first problem with this movie would have to be theirs no plot. A couple of friends and their families go on vacation at a lake house after their old couch dies and that's it.\",\n",
    "    \"Definitely a MUST WATCH film from 2019, this Palme d’Or winner of Cannes Film Festival sure does not disappoint with it’s hard hitting themes and exceptionally crafted story. The great use of space in the film coupled with well executed direction is what makes the film flow with such ease and keeps the audience engaged and emotionally invested from start to finish.\",\n",
    "    \"Parasite really is the kind of remarkable experience that makes modern movie-going/Binge-watching such a joy. South Korean filmmaker Bong Joon-ho already has an impeccable track record, but he's stepped up his game with this brilliant, powerfully revealing social satire.The film had its world premiere at the 2019 Cannes Film Festival on 21 May.It was released in South Korea on 30 May 2019.Described by its creator as “a comedy without clowns, a tragedy without villains”, Parasite is more Shakespearean than Hitchockian – a tale of two families from opposite ends of the socioeconomic spectrum, told with the trademark genre-fluidity that has seen Bong’s back catalogue slip seamlessly from murder mystery, via monster movie, to dystopian future-fantasy and beyond.\",\n",
    "    \"Filming a movie is like painting a picture, you need to put time and effort into it and boy the people who worked on this film knew what there doing. Parasite is a South Korean Black Comedy Crime Thriller film directed by Bong Joon-ho who also directed The Host (2006), Snowpiercer (2013) and Okja (2017), It first premiered at the Film Festival in Cannes where it won the Palme d'Or and most notably became the first film from a foreign country to win the Academy Award for Best Picture, I gotta a film like this definitely deserve those achievements.\",\n",
    "    \"I had no expectations walking into Parasite, but now my love and appreciation for it has breached the stratosphere. This is definitely one of the best movies of 2019, and it's bound to be a classic.It's directed by Bong Joon-ho, he did Snowpiercer (2013) and Okja (2017), and now he's back with Parasite and it is fantastic. From a directing standpoint, this movie is gorgeous. The cinematography is extremely well done. It's just stunning and so metaphorical. There are also sequences in this movie that will shake you and leave you on the edge of your seat.\",\n",
    "    \"Parasite is highly intriguing and thrilling with a lot of action happening throughout its running time. No wonder this black comic thriller won numerous awards, including the prestigious Oscar for The Best Film, The Best Director and so on.All characters are aptly chosen and they live up to the expectations of the director. Their facial expressions are remarkable, whether if its in the scenes with lighter moments or more terrifying ones in the second half. For those who cannot understand the language in which it was made (Korean), the well translated subtitles come in handy!\"\n",
    "]\n",
    "print(len(movieReviews))"
   ]
  },
  {
   "cell_type": "code",
   "execution_count": 79,
   "id": "24798a5e-213b-488c-acc9-e7fe5e6214c5",
   "metadata": {},
   "outputs": [],
   "source": [
    "from nltk.tokenize import sent_tokenize, word_tokenize\n",
    "from nltk.corpus import stopwords\n",
    "from string import punctuation"
   ]
  },
  {
   "cell_type": "code",
   "execution_count": 80,
   "id": "ee507786-ddc6-4d7c-bb57-832a5c862780",
   "metadata": {},
   "outputs": [],
   "source": [
    "extrastop = ['``',\"''\",\"'re\",\"'s\",\"'re\",'``',\"''\",\"'ll\",\"--\",\"\\'\\'\",\"...\",\n",
    "             \"n\\'t\",'one','would','use','subject','from',\"\\'m\",\"\\'ve\"]"
   ]
  },
  {
   "cell_type": "code",
   "execution_count": 81,
   "id": "7757d806-2d00-4e1f-aaf9-c3063ff8c4cf",
   "metadata": {},
   "outputs": [],
   "source": [
    "myStopWords = list(punctuation) + stopwords.words('english') + extrastop"
   ]
  },
  {
   "cell_type": "code",
   "execution_count": 85,
   "id": "954fcf04-2dac-4837-a14d-fea41a308fa0",
   "metadata": {},
   "outputs": [],
   "source": [
    "listOfMovieWords=[]\n",
    "for i in movieReviews:\n",
    "    listOfMovieWords.append([w for w in word_tokenize(i.lower()) if w not in myStopWords])"
   ]
  },
  {
   "cell_type": "code",
   "execution_count": 86,
   "id": "4ccbfd7a-bbca-4485-acb3-e490037f5722",
   "metadata": {},
   "outputs": [],
   "source": [
    "from nltk.stem.porter import PorterStemmer\n",
    "p_stemmer = PorterStemmer()"
   ]
  },
  {
   "cell_type": "code",
   "execution_count": 89,
   "id": "9945587e-818d-4c5d-8c70-98c51eba1501",
   "metadata": {},
   "outputs": [],
   "source": [
    "listOfStemmedWords = []\n",
    "for i in listOfMovieWords:\n",
    "    listOfStemmedWords.append([p_stemmer.stem(w) for w in i])"
   ]
  },
  {
   "cell_type": "code",
   "execution_count": 90,
   "id": "c483e5e9-1b2b-46b4-9ccd-b56dbda0a0a7",
   "metadata": {},
   "outputs": [
    {
     "name": "stdout",
     "output_type": "stream",
     "text": [
      "Collecting gensim\n",
      "  Downloading gensim-4.1.2-cp39-cp39-manylinux_2_12_x86_64.manylinux2010_x86_64.whl (24.0 MB)\n",
      "\u001b[K     |████████████████████████████████| 24.0 MB 15.2 MB/s eta 0:00:01\n",
      "\u001b[?25hCollecting smart-open>=1.8.1\n",
      "  Downloading smart_open-5.2.1-py3-none-any.whl (58 kB)\n",
      "\u001b[K     |████████████████████████████████| 58 kB 2.1 MB/s  eta 0:00:01\n",
      "\u001b[?25hRequirement already satisfied: scipy>=0.18.1 in /opt/conda/lib/python3.9/site-packages (from gensim) (1.7.1)\n",
      "Requirement already satisfied: numpy>=1.17.0 in /opt/conda/lib/python3.9/site-packages (from gensim) (1.20.3)\n",
      "Installing collected packages: smart-open, gensim\n",
      "Successfully installed gensim-4.1.2 smart-open-5.2.1\n"
     ]
    }
   ],
   "source": [
    "!pip install gensim\n",
    "from gensim import corpora, models\n",
    "import gensim"
   ]
  },
  {
   "cell_type": "code",
   "execution_count": 91,
   "id": "6f828162-234a-41bc-bb42-599fe69ee4c4",
   "metadata": {},
   "outputs": [],
   "source": [
    "dictionary = corpora.Dictionary(listOfStemmedWords)"
   ]
  },
  {
   "cell_type": "code",
   "execution_count": 92,
   "id": "9357bef6-b7ba-4727-a803-c975ea6d7966",
   "metadata": {},
   "outputs": [],
   "source": [
    "corpus = [dictionary.doc2bow(text) for text in listOfStemmedWords]"
   ]
  },
  {
   "cell_type": "code",
   "execution_count": 94,
   "id": "2f3fa469-612c-4d3e-9989-a858f439135a",
   "metadata": {},
   "outputs": [],
   "source": [
    "ldamodel = gensim.models.ldamodel.LdaModel(corpus, \n",
    "                                           num_topics=2, \n",
    "                                           id2word = dictionary, \n",
    "                                           passes=20)"
   ]
  },
  {
   "cell_type": "code",
   "execution_count": 97,
   "id": "0b9581af-4b3b-4568-8a84-5bd7d872a143",
   "metadata": {},
   "outputs": [
    {
     "name": "stdout",
     "output_type": "stream",
     "text": [
      "(0, '0.039*\"film\" + 0.015*\"movi\" + 0.012*\"’\" + 0.012*\"work\" + 0.009*\"also\" + 0.009*\"definit\" + 0.009*\"direct\" + 0.009*\"great\" + 0.009*\"pictur\" + 0.007*\"adam\" + 0.007*\"sandler\" + 0.007*\"lot\" + 0.007*\"realli\" + 0.007*\"cann\" + 0.007*\"festiv\" + 0.007*\"comedi\" + 0.007*\"even\" + 0.007*\"watch\" + 0.007*\"get\" + 0.007*\"palm\"')\n",
      "(1, '0.030*\"movi\" + 0.013*\"parasit\" + 0.011*\"funni\" + 0.009*\"well\" + 0.009*\"bong\" + 0.009*\"best\" + 0.009*\"first\" + 0.009*\"famili\" + 0.008*\"film\" + 0.006*\"may\" + 0.006*\"south\" + 0.006*\"joke\" + 0.006*\"korean\" + 0.006*\"time\" + 0.006*\"2019\" + 0.006*\"made\" + 0.006*\"love\" + 0.006*\"joon-ho\" + 0.006*\"watch\" + 0.006*\"director\"')\n"
     ]
    }
   ],
   "source": [
    "for i in ldamodel.print_topics(num_topics=2, num_words=20):\n",
    "    print(i)\n",
    "# I think a little bit of this result is reflective such as the choice of words such as festive to describe comedies\n",
    "# as opposed to the use of words like love to represent dramas representing this contrast between the light hearted\n",
    "# vs. more emotional film making\n",
    "# However, I think implementing more rigid stop words would have been useful in giving us a better result"
   ]
  },
  {
   "cell_type": "code",
   "execution_count": null,
   "id": "fbe15889-84fc-4160-a33a-284f79c0c4fe",
   "metadata": {},
   "outputs": [],
   "source": []
  }
 ],
 "metadata": {
  "kernelspec": {
   "display_name": "Python 3 (ipykernel)",
   "language": "python",
   "name": "python3"
  },
  "language_info": {
   "codemirror_mode": {
    "name": "ipython",
    "version": 3
   },
   "file_extension": ".py",
   "mimetype": "text/x-python",
   "name": "python",
   "nbconvert_exporter": "python",
   "pygments_lexer": "ipython3",
   "version": "3.9.6"
  }
 },
 "nbformat": 4,
 "nbformat_minor": 5
}
