{
 "cells": [
  {
   "cell_type": "code",
   "execution_count": 2,
   "id": "77d5f789-b4f5-4e7e-853f-4e8fbe9915cb",
   "metadata": {},
   "outputs": [],
   "source": [
    "import requests\n",
    "import nltk"
   ]
  },
  {
   "cell_type": "code",
   "execution_count": 3,
   "id": "f3852543-42b7-4774-bac5-f26daf0f9f21",
   "metadata": {},
   "outputs": [],
   "source": [
    "juliusURLString = \"https://www.gutenberg.org/cache/epub/1522/pg1522.txt\"\n",
    "r = requests.get(juliusURLString,allow_redirects=True)\n",
    "jText = r.text"
   ]
  },
  {
   "cell_type": "code",
   "execution_count": 4,
   "id": "175b371d-5d3c-4bd4-8e47-3d3b3ec2724b",
   "metadata": {},
   "outputs": [],
   "source": [
    "from nltk.tokenize import word_tokenize,sent_tokenize"
   ]
  },
  {
   "cell_type": "code",
   "execution_count": 5,
   "id": "d12a39cf-2f4f-4659-89a8-dae20879a873",
   "metadata": {},
   "outputs": [],
   "source": [
    "sent = sent_tokenize(jText)\n",
    "words = []\n",
    "for s in sent:\n",
    "    for w in word_tokenize(s):\n",
    "        words.append(w)"
   ]
  },
  {
   "cell_type": "code",
   "execution_count": 6,
   "id": "1cfc515f-d093-456b-884f-72d923e69f07",
   "metadata": {},
   "outputs": [
    {
     "name": "stderr",
     "output_type": "stream",
     "text": [
      "[nltk_data] Downloading package stopwords to /home/jovyan/nltk_data...\n",
      "[nltk_data]   Package stopwords is already up-to-date!\n"
     ]
    }
   ],
   "source": [
    "from nltk.corpus import stopwords\n",
    "from string import punctuation\n",
    "nltk.download('stopwords')\n",
    "myStopWords = list(punctuation+ '’') + stopwords.words('english')"
   ]
  },
  {
   "cell_type": "code",
   "execution_count": 7,
   "id": "4b2c4811-bf89-4100-9a20-03581b16b4d8",
   "metadata": {},
   "outputs": [],
   "source": [
    "wordsNotInStop = []\n",
    "for word in words:\n",
    "    if word not in myStopWords:\n",
    "        wordsNotInStop.append(word)"
   ]
  },
  {
   "cell_type": "code",
   "execution_count": 8,
   "id": "95fabfc8-dcb9-4e0e-8985-37c7aa413815",
   "metadata": {},
   "outputs": [],
   "source": [
    "from nltk.stem import WordNetLemmatizer\n",
    "juliusWords = [WordNetLemmatizer().lemmatize(w) for w in wordsNotInStop]"
   ]
  },
  {
   "cell_type": "code",
   "execution_count": 9,
   "id": "6e408a5a-a496-42c9-b51f-92ee943421cc",
   "metadata": {},
   "outputs": [
    {
     "name": "stdout",
     "output_type": "stream",
     "text": [
      "this is the mean: 4.306478873239437\n",
      "this is the mode: 1\n",
      "this is the median: 1.0\n"
     ]
    }
   ],
   "source": [
    "from collections import Counter\n",
    "import pandas as pd\n",
    "df = pd.DataFrame.from_dict(Counter(juliusWords),orient=\"index\").reset_index().rename(columns={'index':'word',0:'count'})\n",
    "dfMean = df['count'].mean()\n",
    "dfMode = df['count'].mode() #returned as a pandas series object with length one so we just have to index the 0th element\n",
    "dfMedian = df['count'].median()\n",
    "print(\"this is the mean: \" + str(dfMean))\n",
    "print(\"this is the mode: \" + str(dfMode[0]))\n",
    "print(\"this is the median: \" + str(dfMedian))"
   ]
  },
  {
   "cell_type": "code",
   "execution_count": 10,
   "id": "1cc15efb-0003-430b-93e4-e5463f3f4da8",
   "metadata": {},
   "outputs": [
    {
     "name": "stdout",
     "output_type": "stream",
     "text": [
      "this is the trimmed mean: 2.034142907426962\n"
     ]
    }
   ],
   "source": [
    "df2 = df.sort_values(by='count',ignore_index=True).copy()\n",
    "trimmedMean = df2.loc[int(0.1*3550):int(0.9*3550),'count'].mean()\n",
    "print(\"this is the trimmed mean: \" + str(trimmedMean))\n",
    "# I trimmed with top 10% and the last 10% such that we can get the middle 80% of values\n",
    "# I've noticed that the distribution of words is very skewed as there are a lot of words\n",
    "# with a frequency of 1 but there are a handful of words have 400+ occurrences\n",
    "# Therefore, it makes sense that the mean is lowered because these higher skewed frequencies are removed"
   ]
  },
  {
   "cell_type": "code",
   "execution_count": 45,
   "id": "ce6e97c5-a2f3-4a08-9f05-f33d58602bf8",
   "metadata": {},
   "outputs": [
    {
     "data": {
      "text/plain": [
       "<AxesSubplot:title={'center':'Frequency of Word Occurences in Julius Ceasar'}, ylabel='Frequency'>"
      ]
     },
     "execution_count": 45,
     "metadata": {},
     "output_type": "execute_result"
    },
    {
     "data": {
      "image/png": "[encoded data removed]",
      "text/plain": [
       "<Figure size 432x288 with 1 Axes>"
      ]
     },
     "metadata": {
      "needs_background": "light"
     },
     "output_type": "display_data"
    }
   ],
   "source": [
    "df['count'].plot(kind='hist',bins=50, xlabel='word occurences',title='Frequency of Word Occurences in Julius Ceasar')\n",
    "# examining the histogram, we see that most of the values that occur are less than 100\n",
    "# this makes sense as around 2000 out of the 3500 entries in the word frequency counter\n",
    "# have a frequency of 1. \n",
    "# the mean falls in this range but is raised because of the 1 or 2 words that have a frequency\n",
    "# of over 400\n",
    "# the mode and the median are at 1 which makes sense seeing how many occurences of a single\n",
    "# frequency there are\n",
    "# the trimmed mean which removes both 10% of 1's as well as the much higher occuring words\n",
    "# shifts closer to the mean and mode which also is consistent with the demographic of our data"
   ]
  },
  {
   "cell_type": "code",
   "execution_count": 50,
   "id": "567e4939-f10b-4720-91ca-b07075e1117a",
   "metadata": {},
   "outputs": [
    {
     "name": "stdout",
     "output_type": "stream",
     "text": [
      "this is the standard deviation: 13.988569086393422\n",
      "this is the 25% quantile: 1.0\n",
      "this is the 75% quantile: 3.0\n",
      "this is the interquartile range: 2.0\n"
     ]
    }
   ],
   "source": [
    "jSD = df['count'].std()\n",
    "j25 = df['count'].quantile(0.25)\n",
    "j75 = df['count'].quantile(0.75)\n",
    "print(\"this is the standard deviation: \" + str(jSD))\n",
    "print(\"this is the 25% quantile: \" + str(j25))\n",
    "print(\"this is the 75% quantile: \" + str(j75))\n",
    "print(\"this is the interquartile range: \" + str(j75-j25))\n",
    "# the standard deviation being relatively high makes sense because of how varied our data becomes\n",
    "# with the higher numbers\n",
    "# the interquartile range giving us an estimation of the middle half of the dataset is 2 whch is consistent\n",
    "# with our previous findings. Over 50% of the data frequencies have a value of 1 so it would make sense that\n",
    "# our middle range would be a value close to that (2)"
   ]
  },
  {
   "cell_type": "code",
   "execution_count": 77,
   "id": "7cb65ec6-1cc7-46f4-b673-01510d0cb520",
   "metadata": {},
   "outputs": [
    {
     "name": "stdout",
     "output_type": "stream",
     "text": [
      "['DESCR', 'data', 'data_filename', 'feature_names', 'frame', 'target', 'target_filename']\n"
     ]
    }
   ],
   "source": [
    "from sklearn import datasets\n",
    "df = datasets.load_diabetes(as_frame=True) \n",
    "features_df = df.data\n",
    "target_df = df.target"
   ]
  },
  {
   "cell_type": "code",
   "execution_count": 53,
   "id": "0047d930-8e11-4496-9970-b6b09e3b368d",
   "metadata": {},
   "outputs": [
    {
     "name": "stdout",
     "output_type": "stream",
     "text": [
      ".. _diabetes_dataset:\n",
      "\n",
      "Diabetes dataset\n",
      "----------------\n",
      "\n",
      "Ten baseline variables, age, sex, body mass index, average blood\n",
      "pressure, and six blood serum measurements were obtained for each of n =\n",
      "442 diabetes patients, as well as the response of interest, a\n",
      "quantitative measure of disease progression one year after baseline.\n",
      "\n",
      "**Data Set Characteristics:**\n",
      "\n",
      "  :Number of Instances: 442\n",
      "\n",
      "  :Number of Attributes: First 10 columns are numeric predictive values\n",
      "\n",
      "  :Target: Column 11 is a quantitative measure of disease progression one year after baseline\n",
      "\n",
      "  :Attribute Information:\n",
      "      - age     age in years\n",
      "      - sex\n",
      "      - bmi     body mass index\n",
      "      - bp      average blood pressure\n",
      "      - s1      tc, total serum cholesterol\n",
      "      - s2      ldl, low-density lipoproteins\n",
      "      - s3      hdl, high-density lipoproteins\n",
      "      - s4      tch, total cholesterol / HDL\n",
      "      - s5      ltg, possibly log of serum triglycerides level\n",
      "      - s6      glu, blood sugar level\n",
      "\n",
      "Note: Each of these 10 feature variables have been mean centered and scaled by the standard deviation times `n_samples` (i.e. the sum of squares of each column totals 1).\n",
      "\n",
      "Source URL:\n",
      "https://www4.stat.ncsu.edu/~boos/var.select/diabetes.html\n",
      "\n",
      "For more information see:\n",
      "Bradley Efron, Trevor Hastie, Iain Johnstone and Robert Tibshirani (2004) \"Least Angle Regression,\" Annals of Statistics (with discussion), 407-499.\n",
      "(https://web.stanford.edu/~hastie/Papers/LARS/LeastAngle_2002.pdf)\n"
     ]
    }
   ],
   "source": [
    "print(df.DESCR)"
   ]
  },
  {
   "cell_type": "code",
   "execution_count": 60,
   "id": "e0c90464-3aa4-4274-a1de-d9d973c3809d",
   "metadata": {},
   "outputs": [
    {
     "name": "stdout",
     "output_type": "stream",
     "text": [
      "column name: age\n",
      "mean: -3.6342849293088766e-16\n",
      "median: -3.6342849293088766e-16\n",
      "mode: -3.6342849293088766e-16\n",
      "column name: sex\n",
      "mean: 1.3083425745511955e-16\n",
      "median: 1.3083425745511955e-16\n",
      "mode: 1.3083425745511955e-16\n",
      "column name: bmi\n",
      "mean: -8.045349203335693e-16\n",
      "median: -8.045349203335693e-16\n",
      "mode: -8.045349203335693e-16\n",
      "column name: bp\n",
      "mean: 1.2816545210746291e-16\n",
      "median: 1.2816545210746291e-16\n",
      "mode: 1.2816545210746291e-16\n",
      "column name: s1\n",
      "mean: -8.835315586242054e-17\n",
      "median: -8.835315586242054e-17\n",
      "mode: -8.835315586242054e-17\n",
      "column name: s2\n",
      "mean: 1.327024211984792e-16\n",
      "median: 1.327024211984792e-16\n",
      "mode: 1.327024211984792e-16\n",
      "column name: s3\n",
      "mean: -4.574646342983182e-16\n",
      "median: -4.574646342983182e-16\n",
      "mode: -4.574646342983182e-16\n",
      "column name: s4\n",
      "mean: 3.777301498233299e-16\n",
      "median: 3.777301498233299e-16\n",
      "mode: 3.777301498233299e-16\n",
      "column name: s5\n",
      "mean: -3.8308542173050264e-16\n",
      "median: -3.8308542173050264e-16\n",
      "mode: -3.8308542173050264e-16\n",
      "column name: s6\n",
      "mean: -3.412882015081407e-16\n",
      "median: -3.412882015081407e-16\n",
      "mode: -3.412882015081407e-16\n"
     ]
    }
   ],
   "source": [
    "for c in features_df.columns:\n",
    "    print(\"column name: \" + c)\n",
    "    print(\"mean: \" + str(features_df[c].mean()))\n",
    "    print(\"median: \" + str(features_df[c].mean()))\n",
    "    print(\"mode: \" + str(features_df[c].mean()))"
   ]
  },
  {
   "cell_type": "code",
   "execution_count": 67,
   "id": "928fcafb-77b3-4d74-ba6e-194c9eca5c8c",
   "metadata": {},
   "outputs": [
    {
     "name": "stdout",
     "output_type": "stream",
     "text": [
      "column: age\n",
      "[[1.         0.18788875]\n",
      " [0.18788875 1.        ]]\n",
      "column: sex\n",
      "[[1.       0.043062]\n",
      " [0.043062 1.      ]]\n",
      "column: bmi\n",
      "[[1.         0.58645013]\n",
      " [0.58645013 1.        ]]\n",
      "column: bp\n",
      "[[1.         0.44148385]\n",
      " [0.44148385 1.        ]]\n",
      "column: s1\n",
      "[[1.         0.21202248]\n",
      " [0.21202248 1.        ]]\n",
      "column: s2\n",
      "[[1.         0.17405359]\n",
      " [0.17405359 1.        ]]\n",
      "column: s3\n",
      "[[ 1.         -0.39478925]\n",
      " [-0.39478925  1.        ]]\n",
      "column: s4\n",
      "[[1.         0.43045288]\n",
      " [0.43045288 1.        ]]\n",
      "column: s5\n",
      "[[1.         0.56588343]\n",
      " [0.56588343 1.        ]]\n",
      "column: s6\n",
      "[[1.         0.38248348]\n",
      " [0.38248348 1.        ]]\n"
     ]
    }
   ],
   "source": [
    "import numpy as np\n",
    "for c in features_df.columns:\n",
    "    print(\"column: \" + c)\n",
    "    print(np.corrcoef(features_df[c],target_df))\n",
    "# looking at the output we see that the 'bmi' column has the highest correlation coefficient"
   ]
  },
  {
   "cell_type": "code",
   "execution_count": 83,
   "id": "35a7849a-92ce-40b5-a81f-a2bff75dde3d",
   "metadata": {},
   "outputs": [
    {
     "data": {
      "text/plain": [
       "<AxesSubplot:xlabel='bmi', ylabel='targets'>"
      ]
     },
     "execution_count": 83,
     "metadata": {},
     "output_type": "execute_result"
    },
    {
     "data": {
      "image/png": "[encoded data removed]",
      "text/plain": [
       "<Figure size 432x288 with 1 Axes>"
      ]
     },
     "metadata": {
      "needs_background": "light"
     },
     "output_type": "display_data"
    }
   ],
   "source": [
    "df2 = pd.DataFrame(data = {'targets':df.target,'bmi':df.data['bmi']})\n",
    "df2.plot(kind='scatter',x='bmi',y='targets')\n",
    "# the correlation coefficient for comparing the columns against each other is .586\n",
    "# we can see a general trend towards a positive y=x resembling line. However, there\n",
    "# are a decent amount of points that don't follow this trend which justifies why the correlation\n",
    "# score is not a perfect 1. A general +1 trend can be seen but since there are so many \n",
    "# outlying points the score is dropped. Also, since the points go from bottom left to top right\n",
    "# instead of top left to bottom right, it makes sense that the coefficient is a positive value"
   ]
  },
  {
   "cell_type": "code",
   "execution_count": 96,
   "id": "975bbf6d-040b-4c22-b10d-4f3ccc10e7db",
   "metadata": {},
   "outputs": [],
   "source": [
    "from sklearn.linear_model import LinearRegression\n",
    "bmiLi = df2[['bmi']]\n",
    "targetLi = df2['targets']\n",
    "reg = LinearRegression().fit(bmiLi,targetLi)"
   ]
  },
  {
   "cell_type": "code",
   "execution_count": 97,
   "id": "359bee7f-6c7c-4753-be2b-eccb7195996a",
   "metadata": {},
   "outputs": [
    {
     "name": "stdout",
     "output_type": "stream",
     "text": [
      "[949.43526038]\n"
     ]
    }
   ],
   "source": [
    "print(reg.coef_)"
   ]
  },
  {
   "cell_type": "code",
   "execution_count": 99,
   "id": "e0e70f48-27c6-4054-9e5a-1fd2d5c29a5d",
   "metadata": {},
   "outputs": [
    {
     "data": {
      "text/plain": [
       "[<matplotlib.lines.Line2D at 0x7fa9abf93790>,\n",
       " <matplotlib.lines.Line2D at 0x7fa9abf93880>]"
      ]
     },
     "execution_count": 99,
     "metadata": {},
     "output_type": "execute_result"
    },
    {
     "data": {
      "image/png": "[encoded data removed]",
      "text/plain": [
       "<Figure size 432x288 with 1 Axes>"
      ]
     },
     "metadata": {
      "needs_background": "light"
     },
     "output_type": "display_data"
    }
   ],
   "source": [
    "import matplotlib.pyplot as plt\n",
    "y_train = reg.intercept_ + reg.coef_*bmiLi\n",
    "plt.plot(bmiLi,targetLi,'ro',bmiLi,y_train,'b-')"
   ]
  },
  {
   "cell_type": "code",
   "execution_count": 101,
   "id": "16956741-7879-4497-b217-4144e11c5ff1",
   "metadata": {},
   "outputs": [
    {
     "name": "stdout",
     "output_type": "stream",
     "text": [
      "This is the means squared error: 3890.4565854612724\n",
      "This is the r2 score: 0.3439237602253803\n"
     ]
    }
   ],
   "source": [
    "from sklearn.linear_model import LinearRegression\n",
    "from sklearn.metrics import mean_squared_error, r2_score\n",
    "print(\"This is the means squared error: \" + str(mean_squared_error(targetLi,y_train)))\n",
    "print(\"This is the r2 score: \" + str(r2_score(targetLi, y_train)))"
   ]
  },
  {
   "cell_type": "code",
   "execution_count": 105,
   "id": "3b641fe8-936f-4816-90b7-50e51c6c302f",
   "metadata": {},
   "outputs": [
    {
     "name": "stdout",
     "output_type": "stream",
     "text": [
      "This is the new mean squared error: 5918.888899586022\n",
      "This is the new r2 score: 0.0018543357106460823\n"
     ]
    }
   ],
   "source": [
    "df3 = pd.DataFrame(data= {\"sex\":df.data['sex'],\"targets\":df.target})\n",
    "sexLi = df3[['sex']]\n",
    "reg = LinearRegression().fit(sexLi,targetLi)\n",
    "new_y_train = reg.intercept_ + reg.coef_*sexLi\n",
    "print(\"This is the new mean squared error: \" + str(mean_squared_error(targetLi,new_y_train)))\n",
    "print(\"This is the new r2 score: \" + str(r2_score(targetLi,new_y_train)))\n",
    "# I took a new column that had the lowest correlation coefficient value (sex compared to target values) \n",
    "# The mean squared error value increased by over 2000 and the r2 score decreased around a factor of .01"
   ]
  },
  {
   "cell_type": "code",
   "execution_count": null,
   "id": "f279af9b-c29b-473f-aa21-4109ef01ba80",
   "metadata": {},
   "outputs": [],
   "source": []
  }
 ],
 "metadata": {
  "kernelspec": {
   "display_name": "Python 3 (ipykernel)",
   "language": "python",
   "name": "python3"
  },
  "language_info": {
   "codemirror_mode": {
    "name": "ipython",
    "version": 3
   },
   "file_extension": ".py",
   "mimetype": "text/x-python",
   "name": "python",
   "nbconvert_exporter": "python",
   "pygments_lexer": "ipython3",
   "version": "3.9.6"
  }
 },
 "nbformat": 4,
 "nbformat_minor": 5
}
